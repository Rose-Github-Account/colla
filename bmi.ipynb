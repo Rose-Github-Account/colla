{
  "nbformat": 4,
  "nbformat_minor": 0,
  "metadata": {
    "colab": {
      "provenance": [],
      "authorship_tag": "ABX9TyPTboANf5gWybYXoOdrMH1s",
      "include_colab_link": true
    },
    "kernelspec": {
      "name": "python3",
      "display_name": "Python 3"
    },
    "language_info": {
      "name": "python"
    }
  },
  "cells": [
    {
      "cell_type": "markdown",
      "metadata": {
        "id": "view-in-github",
        "colab_type": "text"
      },
      "source": [
        "<a href=\"https://colab.research.google.com/github/Rose-Github-Account/colla/blob/main/bmi.ipynb\" target=\"_parent\"><img src=\"https://colab.research.google.com/assets/colab-badge.svg\" alt=\"Open In Colab\"/></a>"
      ]
    },
    {
      "cell_type": "code",
      "execution_count": null,
      "metadata": {
        "id": "tcPIcCFccIDi"
      },
      "outputs": [],
      "source": []
    },
    {
      "cell_type": "code",
      "execution_count": null,
      "metadata": {
        "id": "-f3lixpBUIG5"
      },
      "outputs": [],
      "source": [
        "import streamlit as st\n",
        "\n",
        "st.title(\"BMI Calculator 🧑‍⚕️\")\n",
        "st.write(\"Enter your height and weight to calculate your BMI. 📊\")\n",
        "\n",
        "# Input for height and weight\n",
        "height = st.number_input(\"Height (in meters) 🏋️‍♂️\", min_value=0.5, max_value=3.0, value=1.75, step=0.01)\n",
        "weight = st.number_input(\"Weight (in kilograms) ⚖️\", min_value=10, max_value=90, value=70, step=1)\n",
        "\n",
        "# Button to calculate BMI\n",
        "if st.button(\"Calculate BMI 🧮\"):\n",
        "    if height > 0 and weight > 0:\n",
        "        # Calculate BMI\n",
        "        bmi = weight / (height ** 2)\n",
        "        st.success(f\"Your BMI is: {bmi:.2f}\")\n",
        "\n",
        "        # Display BMI category based on the calculated value\n",
        "        if bmi < 18.5:\n",
        "            st.warning(\"You are underweight 🏃‍♀️\")\n",
        "        elif 18.5 <= bmi < 24.9:\n",
        "            st.success(\"You have a normal weight 🙂\")\n",
        "        elif 25 <= bmi < 29.9:\n",
        "            st.warning(\"You are overweight 😕\")\n",
        "        else:\n",
        "            st.error(\"You are obese 🛑\")\n",
        "\n",
        "    else:\n",
        "        st.error(\"Please enter valid height and weight values! ⚠️\")"
      ]
    }
  ]
}